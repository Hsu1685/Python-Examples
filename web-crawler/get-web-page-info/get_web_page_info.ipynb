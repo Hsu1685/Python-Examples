{
 "metadata": {
  "language_info": {
   "codemirror_mode": {
    "name": "ipython",
    "version": 3
   },
   "file_extension": ".py",
   "mimetype": "text/x-python",
   "name": "python",
   "nbconvert_exporter": "python",
   "pygments_lexer": "ipython3",
   "version": "3.7.7"
  },
  "orig_nbformat": 2,
  "kernelspec": {
   "name": "python377jvsc74a57bd0f85afdbd1112823a378265a770066806a37af74db3316ecf0780f8a0262a6523",
   "display_name": "Python 3.7.7 64-bit"
  }
 },
 "nbformat": 4,
 "nbformat_minor": 2,
 "cells": [
  {
   "cell_type": "code",
   "execution_count": null,
   "metadata": {},
   "outputs": [],
   "source": [
    "# 取得PTT手機版的標題資訊\n",
    "import requests\n",
    "from bs4 import BeautifulSoup\n",
    "\n",
    "r = requests.get(\"https://www.ptt.cc/bbs/MobileComm/index.html\") # 將網頁資料GET下來\n",
    "#print(r.text) # 印出HTML\n",
    "soup = BeautifulSoup(r.text,\"html.parser\") # 將網頁資料以html.parser\n",
    "sel = soup.select(\"div.title a\")  #取HTML標籤中的 <div class=\"title\"></div> 中的<a>標籤存入sel\n",
    "for s in sel:\n",
    "    print(s[\"href\"], s.text) # 印出(網址, 標題文字)\n",
    "    print(s.text) # 印出標題文字\n",
    "    print(s[\"href\"]) # 印出網址"
   ]
  },
  {
   "cell_type": "code",
   "execution_count": null,
   "metadata": {},
   "outputs": [],
   "source": [
    "# 取得iT邦幫忙[技術問答]第一頁每一個標題文章內部記錄的發文時間\n",
    "import requests\n",
    "from bs4 import BeautifulSoup\n",
    "\n",
    "r = requests.get(\"https://ithelp.ithome.com.tw/questions\") # 將網頁資料GET下來\n",
    "soup = BeautifulSoup(r.text,\"html.parser\") # 將網頁資料以html.parser\n",
    "sel = soup.select(\"h3.qa-list__title a\") # 取HTML標中的 <h3 class=\"qa-list__title\"></h3> 中的<a>標籤存入sel\n",
    "\n",
    "for s in sel:\n",
    "    url = s[\"href\"] # 取得網址\n",
    "    r = requests.get(url)\n",
    "    soup = BeautifulSoup(r.text,\"html.parser\")\n",
    "    sel = soup.select(\"div.qa-header__info a\") # 取HTML標中的 <div class=\"qa-header__info\"></div> 中的<a>標籤存入sel\n",
    "    #print(sel[0]) # 找出作者\n",
    "    print(sel[1][\"title\"]) # 找出貼文時間 \n"
   ]
  },
  {
   "cell_type": "code",
   "execution_count": null,
   "metadata": {},
   "outputs": [],
   "source": []
  }
 ]
}