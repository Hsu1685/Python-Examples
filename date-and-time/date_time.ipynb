{
 "metadata": {
  "language_info": {
   "codemirror_mode": {
    "name": "ipython",
    "version": 3
   },
   "file_extension": ".py",
   "mimetype": "text/x-python",
   "name": "python",
   "nbconvert_exporter": "python",
   "pygments_lexer": "ipython3",
   "version": "3.7.7-final"
  },
  "orig_nbformat": 2,
  "kernelspec": {
   "name": "python3",
   "display_name": "Python 3"
  }
 },
 "nbformat": 4,
 "nbformat_minor": 2,
 "cells": [
  {
   "source": [
    "## 取得今天日期"
   ],
   "cell_type": "markdown",
   "metadata": {}
  },
  {
   "cell_type": "code",
   "execution_count": 40,
   "metadata": {},
   "outputs": [
    {
     "output_type": "stream",
     "name": "stdout",
     "text": [
      "2020-11-13\n"
     ]
    }
   ],
   "source": [
    "import datetime\n",
    "today = datetime.date.today()\n",
    "print (today)"
   ]
  },
  {
   "source": [
    "### 日期加減(取得前一星期的日期)"
   ],
   "cell_type": "markdown",
   "metadata": {}
  },
  {
   "cell_type": "code",
   "execution_count": 41,
   "metadata": {},
   "outputs": [
    {
     "output_type": "stream",
     "name": "stdout",
     "text": [
      "2020-11-06\n"
     ]
    }
   ],
   "source": [
    "that_day = datetime.date.today() - datetime.timedelta(days=7)\n",
    "print (that_day)"
   ]
  },
  {
   "source": [
    "## 取得目前日期及時間"
   ],
   "cell_type": "markdown",
   "metadata": {}
  },
  {
   "cell_type": "code",
   "execution_count": 42,
   "metadata": {},
   "outputs": [
    {
     "output_type": "stream",
     "name": "stdout",
     "text": [
      "2020-11-13 09:02\n"
     ]
    }
   ],
   "source": [
    "now = datetime.datetime.now().strftime(\"%Y-%m-%d %H:%M\")\n",
    "print(now)"
   ]
  },
  {
   "source": [
    "### 取得一天前的日期及時間"
   ],
   "cell_type": "markdown",
   "metadata": {}
  },
  {
   "cell_type": "code",
   "execution_count": 44,
   "metadata": {},
   "outputs": [
    {
     "output_type": "stream",
     "name": "stdout",
     "text": [
      "2020-11-12 09:02\n"
     ]
    }
   ],
   "source": [
    "that_time = (datetime.datetime.now() - datetime.timedelta(days=1)).strftime(\"%Y-%m-%d %H:%M\")\n",
    "print(that_time)"
   ]
  },
  {
   "source": [
    "### 取得1小時前的日期及時間"
   ],
   "cell_type": "markdown",
   "metadata": {}
  },
  {
   "cell_type": "code",
   "execution_count": 47,
   "metadata": {},
   "outputs": [
    {
     "output_type": "stream",
     "name": "stdout",
     "text": [
      "2020-11-13 08:04\n"
     ]
    }
   ],
   "source": [
    "that_time = (datetime.datetime.now() - datetime.timedelta(hours=1)).strftime(\"%Y-%m-%d %H:%M\")\n",
    "print(that_time)"
   ]
  }
 ]
}