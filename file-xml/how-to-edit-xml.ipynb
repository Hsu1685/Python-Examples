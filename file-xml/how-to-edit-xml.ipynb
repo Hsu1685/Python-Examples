{
 "metadata": {
  "language_info": {
   "codemirror_mode": {
    "name": "ipython",
    "version": 3
   },
   "file_extension": ".py",
   "mimetype": "text/x-python",
   "name": "python",
   "nbconvert_exporter": "python",
   "pygments_lexer": "ipython3",
   "version": "3.7.7-final"
  },
  "orig_nbformat": 2,
  "kernelspec": {
   "name": "python3",
   "display_name": "Python 3"
  }
 },
 "nbformat": 4,
 "nbformat_minor": 2,
 "cells": [
  {
   "cell_type": "code",
   "execution_count": 17,
   "metadata": {},
   "outputs": [
    {
     "output_type": "stream",
     "name": "stdout",
     "text": [
      "annotation\n"
     ]
    }
   ],
   "source": [
    "import xml.etree.ElementTree as ET\n",
    "# 獲取 XML 文件物件 ElementTree\n",
    "tree = ET.parse(\"train_images/2020-11-25_1876.xml\")\n",
    "# 獲取 XML 文件物件的根結點 Element\n",
    "root = tree.getroot()\n",
    "# 列印根結點的名稱\n",
    "print(root.tag)"
   ]
  },
  {
   "cell_type": "code",
   "execution_count": 18,
   "metadata": {},
   "outputs": [],
   "source": [
    "# 找出第一個object節點\n",
    "obj_1 = tree.find(\"object[1]\")\n",
    "# 找出第二個object節點\n",
    "obj_2 = tree.find(\"object[2]\")\n",
    "# 將第一個object內容新增到root節點的最後\n",
    "root.append(obj_1)\n",
    "# 寫入修改後的檔案至output.xml\n",
    "tree.write(\"output.xml\")"
   ]
  },
  {
   "cell_type": "code",
   "execution_count": null,
   "metadata": {},
   "outputs": [],
   "source": [
    "# 列印output.xml所有節點的資訊\n",
    "output = ET.parse(\"output.xml\")\n",
    "for elem in output.iter():\n",
    "    print(elem.tag, elem.attrib, elem.text)"
   ]
  },
  {
   "cell_type": "code",
   "execution_count": null,
   "metadata": {},
   "outputs": [],
   "source": []
  }
 ]
}