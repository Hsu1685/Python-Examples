{
 "metadata": {
  "language_info": {
   "codemirror_mode": {
    "name": "ipython",
    "version": 3
   },
   "file_extension": ".py",
   "mimetype": "text/x-python",
   "name": "python",
   "nbconvert_exporter": "python",
   "pygments_lexer": "ipython3",
   "version": "3.7.7-final"
  },
  "orig_nbformat": 2,
  "kernelspec": {
   "name": "python3",
   "display_name": "Python 3"
  }
 },
 "nbformat": 4,
 "nbformat_minor": 2,
 "cells": [
  {
   "cell_type": "code",
   "execution_count": null,
   "metadata": {},
   "outputs": [],
   "source": [
    "import xml.etree.ElementTree as ET\n",
    "# 獲取 XML 文件物件 ElementTree\n",
    "tree = ET.parse(\"train_images/2020-11-25_1876.xml\")\n",
    "# 獲取 XML 文件物件的根結點 Element\n",
    "root = tree.getroot()\n",
    "# 列印根結點的名稱\n",
    "print(root.tag)"
   ]
  },
  {
   "cell_type": "code",
   "execution_count": null,
   "metadata": {},
   "outputs": [],
   "source": [
    "# 列印所有節點的資訊\n",
    "for elem in tree.iter():\n",
    "    print(elem.tag, elem.attrib, elem.text)"
   ]
  },
  {
   "cell_type": "code",
   "execution_count": null,
   "metadata": {},
   "outputs": [],
   "source": [
    "# 列印特定名稱的節點資訊\n",
    "for elem in tree.iter(tag=\"xmin\"):\n",
    "    print(elem.tag, elem.attrib, elem.text)"
   ]
  },
  {
   "cell_type": "code",
   "execution_count": null,
   "metadata": {},
   "outputs": [],
   "source": [
    "# 進入特定名稱節點的位置並列印資訊\n",
    "for obj in tree.findall(\"object\"):\n",
    "    bndbox = obj.find(\"bndbox\")\n",
    "\n",
    "    xmin = int(bndbox[0].text)\n",
    "    ymin = int(bndbox[1].text)\n",
    "    xmax = int(bndbox[2].text)\n",
    "    ymax = int(bndbox[3].text)\n",
    "    \n",
    "    print(xmin)"
   ]
  },
  {
   "cell_type": "code",
   "execution_count": null,
   "metadata": {},
   "outputs": [],
   "source": [
    "# 進入特定順序節點的位置並列印資訊\n",
    "# 找到第二個object節點再列印底下全部資訊\n",
    "obj2 = tree.find(\"object[2]\")\n",
    "for elem in obj2.iter():\n",
    "    print(elem.tag, elem.attrib, elem.text)"
   ]
  },
  {
   "cell_type": "code",
   "execution_count": null,
   "metadata": {},
   "outputs": [],
   "source": []
  }
 ]
}